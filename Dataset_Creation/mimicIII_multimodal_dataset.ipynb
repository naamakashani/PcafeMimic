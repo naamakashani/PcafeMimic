{
 "cells": [
  {
   "cell_type": "markdown",
   "metadata": {},
   "source": [
    "# MIMIC-III Multi-Modal Data Creation"
   ]
  },
  {
   "cell_type": "markdown",
   "metadata": {},
   "source": [
    "git clone to https://github.com/YerevaNN/mimic3-benchmarks\n",
    "follow the instructions in the README file :\n",
    "*Requirements and installation\n",
    "*Build benchmark use only the first command:\n",
    "python -m mimic3benchmark.scripts.extract_subjects {PATH TO MIMIC-III CSVs} data/root/\n",
    "data/root/\n"
   ]
  },
  {
   "cell_type": "code",
   "execution_count": 1,
   "metadata": {
    "collapsed": true
   },
   "outputs": [],
   "source": [
    "# Import libraries\n",
    "import pandas as pd\n",
    "import matplotlib.pyplot as plt\n",
    "import psycopg2\n",
    "import getpass\n",
    "\n",
    "import sns as sns\n",
    "%matplotlib inline\n",
    "plt.style.use('ggplot') "
   ]
  },
  {
   "cell_type": "code",
   "execution_count": 2,
   "metadata": {
    "collapsed": true
   },
   "outputs": [],
   "source": [
    "# Create a database connection\n",
    "user = 'postgres'\n",
    "host = 'localhost'\n",
    "dbname = 'mimic'\n",
    "schema = 'mimiciii'"
   ]
  },
  {
   "cell_type": "code",
   "execution_count": 3,
   "metadata": {},
   "outputs": [],
   "source": [
    "# Connect to the database\n",
    "con = psycopg2.connect(dbname=dbname, user=user, host=host, \n",
    "                       password=getpass.getpass(prompt='Password:'.format(user)))\n",
    "cur = con.cursor()\n",
    "cur.execute('SET search_path to {}'.format(schema))\n",
    "query_schema = 'set search_path to ' + schema+ ';'"
   ]
  },
  {
   "cell_type": "code",
   "execution_count": 65,
   "outputs": [],
   "source": [
    "#read the table from path\n",
    "path = 'enter the path of the output_file'\n",
    "data = pd.read_csv(path)\n",
    "data.columns = map(str.lower, data.columns)\n",
    "\n"
   ],
   "metadata": {
    "collapsed": false
   }
  },
  {
   "cell_type": "code",
   "execution_count": 66,
   "outputs": [
    {
     "name": "stderr",
     "output_type": "stream",
     "text": [
      "C:\\Users\\kashann\\AppData\\Local\\Temp\\ipykernel_22136\\3387768664.py:9: UserWarning: pandas only supports SQLAlchemy connectable (engine/connection) or database string URI or sqlite3 DBAPI2 connection. Other DBAPI2 objects are not tested. Please consider using SQLAlchemy.\n",
      "  labevents_df = pd.read_sql_query(labevents_query, con)\n"
     ]
    },
    {
     "data": {
      "text/plain": "itemid  subject_id  Base_Excess  Glucose_1  Hemoglobin_2  Lactate  pCO2  pH_1  \\\n0                2          0.0        0.0           0.0      0.0   0.0   0.0   \n1                3          0.0        1.0           1.0      1.0   0.0   0.0   \n2                4          0.0        0.0           1.0      1.0   1.0   1.0   \n3                6          0.0        1.0           1.0      1.0   1.0   1.0   \n4                7          0.0        0.0           0.0      0.0   0.0   0.0   \n\nitemid  pO2  Albumin  Anion_Gap  Bicarbonate  Bilirubin_Total  Chloride  \\\n0       0.0      0.0        0.0          0.0              0.0       0.0   \n1       0.0      1.0        1.0          1.0              0.0       1.0   \n2       1.0      1.0        1.0          1.0              1.0       1.0   \n3       1.0      1.0        1.0          1.0              0.0       1.0   \n4       0.0      0.0        0.0          0.0              0.0       0.0   \n\nitemid  Glucose_3  Potassium_2  Sodium  Hematocrit_1  Hemoglobin_1  pH_2  \n0             0.0          0.0     0.0           1.0           1.0   0.0  \n1             1.0          1.0     1.0           1.0           1.0   0.0  \n2             1.0          1.0     1.0           1.0           1.0   0.0  \n3             1.0          1.0     1.0           1.0           1.0   0.0  \n4             0.0          0.0     0.0           1.0           1.0   0.0  ",
      "text/html": "<div>\n<style scoped>\n    .dataframe tbody tr th:only-of-type {\n        vertical-align: middle;\n    }\n\n    .dataframe tbody tr th {\n        vertical-align: top;\n    }\n\n    .dataframe thead th {\n        text-align: right;\n    }\n</style>\n<table border=\"1\" class=\"dataframe\">\n  <thead>\n    <tr style=\"text-align: right;\">\n      <th>itemid</th>\n      <th>subject_id</th>\n      <th>Base_Excess</th>\n      <th>Glucose_1</th>\n      <th>Hemoglobin_2</th>\n      <th>Lactate</th>\n      <th>pCO2</th>\n      <th>pH_1</th>\n      <th>pO2</th>\n      <th>Albumin</th>\n      <th>Anion_Gap</th>\n      <th>Bicarbonate</th>\n      <th>Bilirubin_Total</th>\n      <th>Chloride</th>\n      <th>Glucose_3</th>\n      <th>Potassium_2</th>\n      <th>Sodium</th>\n      <th>Hematocrit_1</th>\n      <th>Hemoglobin_1</th>\n      <th>pH_2</th>\n    </tr>\n  </thead>\n  <tbody>\n    <tr>\n      <th>0</th>\n      <td>2</td>\n      <td>0.0</td>\n      <td>0.0</td>\n      <td>0.0</td>\n      <td>0.0</td>\n      <td>0.0</td>\n      <td>0.0</td>\n      <td>0.0</td>\n      <td>0.0</td>\n      <td>0.0</td>\n      <td>0.0</td>\n      <td>0.0</td>\n      <td>0.0</td>\n      <td>0.0</td>\n      <td>0.0</td>\n      <td>0.0</td>\n      <td>1.0</td>\n      <td>1.0</td>\n      <td>0.0</td>\n    </tr>\n    <tr>\n      <th>1</th>\n      <td>3</td>\n      <td>0.0</td>\n      <td>1.0</td>\n      <td>1.0</td>\n      <td>1.0</td>\n      <td>0.0</td>\n      <td>0.0</td>\n      <td>0.0</td>\n      <td>1.0</td>\n      <td>1.0</td>\n      <td>1.0</td>\n      <td>0.0</td>\n      <td>1.0</td>\n      <td>1.0</td>\n      <td>1.0</td>\n      <td>1.0</td>\n      <td>1.0</td>\n      <td>1.0</td>\n      <td>0.0</td>\n    </tr>\n    <tr>\n      <th>2</th>\n      <td>4</td>\n      <td>0.0</td>\n      <td>0.0</td>\n      <td>1.0</td>\n      <td>1.0</td>\n      <td>1.0</td>\n      <td>1.0</td>\n      <td>1.0</td>\n      <td>1.0</td>\n      <td>1.0</td>\n      <td>1.0</td>\n      <td>1.0</td>\n      <td>1.0</td>\n      <td>1.0</td>\n      <td>1.0</td>\n      <td>1.0</td>\n      <td>1.0</td>\n      <td>1.0</td>\n      <td>0.0</td>\n    </tr>\n    <tr>\n      <th>3</th>\n      <td>6</td>\n      <td>0.0</td>\n      <td>1.0</td>\n      <td>1.0</td>\n      <td>1.0</td>\n      <td>1.0</td>\n      <td>1.0</td>\n      <td>1.0</td>\n      <td>1.0</td>\n      <td>1.0</td>\n      <td>1.0</td>\n      <td>0.0</td>\n      <td>1.0</td>\n      <td>1.0</td>\n      <td>1.0</td>\n      <td>1.0</td>\n      <td>1.0</td>\n      <td>1.0</td>\n      <td>0.0</td>\n    </tr>\n    <tr>\n      <th>4</th>\n      <td>7</td>\n      <td>0.0</td>\n      <td>0.0</td>\n      <td>0.0</td>\n      <td>0.0</td>\n      <td>0.0</td>\n      <td>0.0</td>\n      <td>0.0</td>\n      <td>0.0</td>\n      <td>0.0</td>\n      <td>0.0</td>\n      <td>0.0</td>\n      <td>0.0</td>\n      <td>0.0</td>\n      <td>0.0</td>\n      <td>0.0</td>\n      <td>1.0</td>\n      <td>1.0</td>\n      <td>0.0</td>\n    </tr>\n  </tbody>\n</table>\n</div>"
     },
     "execution_count": 66,
     "metadata": {},
     "output_type": "execute_result"
    }
   ],
   "source": [
    "# Load labevents data (this table might be large, so filter only necessary rows)\n",
    "labevents_query = query_schema+\"\"\"\n",
    "SELECT subject_id, itemid\n",
    "FROM labevents\n",
    "WHERE itemid IN (50813, 50820, 51491, 50831, 51094, 50818, 50809, 51478, 50931,\n",
    "                 50902, 50821, 50833, 50971, 50862, 50882, 50885, 50802, 50983,\n",
    "                 50868, 50825, 51222, 50811, 51221, 51480, 220045, 211, 220210, 618) AND labevents.FLAG = 'abnormal'\n",
    "\"\"\"\n",
    "labevents_df = pd.read_sql_query(labevents_query, con)\n",
    "labevents_pivot = labevents_df.assign(flag=1).pivot_table(\n",
    "    index='subject_id',\n",
    "    columns='itemid',\n",
    "    values='flag',\n",
    "    fill_value=0\n",
    ").reset_index()\n",
    "# Map itemid to descriptive names\n",
    "itemid_to_name = {\n",
    "    50813: 'Lactate', 50820: 'pH_1', 51491: 'pH_2', 50831: 'pH_3', 51094: 'pH_4',\n",
    "    50818: 'pCO2', 50809: 'Glucose_1', 51478: 'Glucose_2', 50931: 'Glucose_3',\n",
    "    50902: 'Chloride', 50821: 'pO2', 50833: 'Potassium_1', 50971: 'Potassium_2',\n",
    "    50862: 'Albumin', 50882: 'Bicarbonate', 50885: 'Bilirubin_Total',\n",
    "    50802: 'Base_Excess', 50983: 'Sodium', 50868: 'Anion_Gap', 50825: 'Temperature',\n",
    "    51222: 'Hemoglobin_1', 50811: 'Hemoglobin_2', 51221: 'Hematocrit_1', 51480: 'Hematocrit_2',\n",
    "    220045: 'Heart_Rate_1', 211: 'Heart_Rate_2', 220210: 'Respiratory_Rate_1', 618: 'Respiratory_Rate_2'\n",
    "}\n",
    "\n",
    "# Rename columns using the mapping\n",
    "labevents_pivot.rename(columns=itemid_to_name, inplace=True)\n",
    "labevents_pivot.head()"
   ],
   "metadata": {
    "collapsed": false
   }
  },
  {
   "cell_type": "code",
   "execution_count": 67,
   "outputs": [
    {
     "name": "stdout",
     "output_type": "stream",
     "text": [
      "itemid\n",
      "subject_id         0\n",
      "Base_Excess        0\n",
      "Glucose_1          0\n",
      "Hemoglobin_2       0\n",
      "Lactate            0\n",
      "pCO2               0\n",
      "pH_1               0\n",
      "pO2                0\n",
      "Albumin            0\n",
      "Anion_Gap          0\n",
      "Bicarbonate        0\n",
      "Bilirubin_Total    0\n",
      "Chloride           0\n",
      "Glucose_3          0\n",
      "Potassium_2        0\n",
      "Sodium             0\n",
      "Hematocrit_1       0\n",
      "Hemoglobin_1       0\n",
      "pH_2               0\n",
      "dtype: int64\n"
     ]
    }
   ],
   "source": [
    "print(labevents_pivot.isna().sum())"
   ],
   "metadata": {
    "collapsed": false
   }
  },
  {
   "cell_type": "code",
   "execution_count": 68,
   "outputs": [
    {
     "name": "stderr",
     "output_type": "stream",
     "text": [
      "C:\\Users\\kashann\\AppData\\Local\\Temp\\ipykernel_22136\\487572764.py:5: UserWarning: pandas only supports SQLAlchemy connectable (engine/connection) or database string URI or sqlite3 DBAPI2 connection. Other DBAPI2 objects are not tested. Please consider using SQLAlchemy.\n",
      "  noteevents_df = pd.read_sql_query(noteevents_query, con)\n",
      "C:\\Users\\kashann\\AppData\\Local\\Temp\\ipykernel_22136\\487572764.py:27: FutureWarning: A value is trying to be set on a copy of a DataFrame or Series through chained assignment using an inplace method.\n",
      "The behavior will change in pandas 3.0. This inplace method will never work because the intermediate object on which we are setting values always behaves as a copy.\n",
      "\n",
      "For example, when doing 'df[col].method(value, inplace=True)', try using 'df.method({col: value}, inplace=True)' or df[col] = df[col].method(value) instead, to perform the operation inplace on the original object.\n",
      "\n",
      "\n",
      "  noteevents_df['text'].fillna('NA', inplace=True)\n"
     ]
    }
   ],
   "source": [
    "noteevents_query = query_schema+ \"\"\"\n",
    "SELECT subject_id, hadm_id, text, category AS note_category\n",
    "FROM noteevents\n",
    "\"\"\"\n",
    "noteevents_df = pd.read_sql_query(noteevents_query, con)\n",
    "noteevents_df['text'] = noteevents_df['text'].str.replace('\\r\\n', ' ', regex=False)\n",
    "noteevents_df['text'] = noteevents_df['text'].str.replace('\\n', ' ', regex=False)\n",
    "noteevents_df['text'] = noteevents_df['text'].str.replace('\\r', ' ', regex=False)\n",
    "# 1. Remove commas in text\n",
    "noteevents_df['text'] = noteevents_df['text'].str.replace(',', ' ', regex=False)\n",
    "\n",
    "# 2. Handle quotes within text\n",
    "noteevents_df['text'] = noteevents_df['text'].str.replace('\"', '\"\"')\n",
    "\n",
    "\n",
    "\n",
    "# 4. Remove leading/trailing whitespace\n",
    "noteevents_df['text'] = noteevents_df['text'].str.strip()\n",
    "\n",
    "# 5. Remove control characters\n",
    "noteevents_df['text'] = noteevents_df['text'].str.replace(r'[\\x00-\\x1F\\x7F]', '', regex=True)\n",
    "\n",
    "# 6. Remove or replace special Unicode characters (if necessary)\n",
    "noteevents_df['text'] = noteevents_df['text'].apply(lambda x: ''.join(c for c in str(x) if ord(c) < 128))\n",
    "\n",
    "# 7. Handle missing values\n",
    "noteevents_df['text'].fillna('NA', inplace=True)\n",
    "\n",
    "# 8. Remove tabs or special delimiters\n",
    "noteevents_df['text'] = noteevents_df['text'].str.replace('\\t', ' ', regex=False)\n"
   ],
   "metadata": {
    "collapsed": false
   }
  },
  {
   "cell_type": "code",
   "execution_count": 69,
   "outputs": [
    {
     "name": "stdout",
     "output_type": "stream",
     "text": [
      "subject_id                  0\n",
      "hadm_id                     0\n",
      "icustay_id                  0\n",
      "dbsource                    0\n",
      "los                         3\n",
      "ethnicity                   0\n",
      "diagnosis                   1\n",
      "gender                      0\n",
      "age                         0\n",
      "mortality_inhospital        0\n",
      "dischtime                   0\n",
      "Case Management         41196\n",
      "Consult                 42208\n",
      "Discharge summary        1189\n",
      "ECG                      4927\n",
      "Echo                    19639\n",
      "General                 38213\n",
      "Nursing                 32233\n",
      "Nursing/other           17069\n",
      "Nutrition               38538\n",
      "Pharmacy                42159\n",
      "Physician               32314\n",
      "Radiology                6317\n",
      "Rehab Services          39828\n",
      "Respiratory             37654\n",
      "Social Work             40516\n",
      "dtype: int64\n"
     ]
    }
   ],
   "source": [
    " #merge with noteevents\n",
    "data_before_merge = data.copy()\n",
    "df = data.merge(noteevents_df, on=['subject_id', 'hadm_id'], how='left')\n",
    "df_pivot = df.pivot_table(index='subject_id', columns='note_category', values='text', aggfunc='first').reset_index()\n",
    "df_final = data_before_merge.merge(df_pivot, on='subject_id', how='left')\n",
    "print(df_final.isna().sum())"
   ],
   "metadata": {
    "collapsed": false
   }
  },
  {
   "cell_type": "code",
   "execution_count": 70,
   "outputs": [
    {
     "name": "stdout",
     "output_type": "stream",
     "text": [
      "subject_id                  0\n",
      "hadm_id                     0\n",
      "icustay_id                  0\n",
      "dbsource                    0\n",
      "los                         0\n",
      "ethnicity                   0\n",
      "diagnosis                   0\n",
      "gender                      0\n",
      "age                         0\n",
      "mortality_inhospital        0\n",
      "dischtime                   0\n",
      "Case Management         41192\n",
      "Consult                 42204\n",
      "Discharge summary        1187\n",
      "ECG                      4927\n",
      "Echo                    19638\n",
      "General                 38209\n",
      "Nursing                 32229\n",
      "Nursing/other           17069\n",
      "Nutrition               38534\n",
      "Pharmacy                42155\n",
      "Physician               32310\n",
      "Radiology                6317\n",
      "Rehab Services          39824\n",
      "Respiratory             37650\n",
      "Social Work             40512\n",
      "dtype: int64\n"
     ]
    }
   ],
   "source": [
    "df_final= df_final.dropna(subset=['los'])\n",
    "df_final= df_final.dropna(subset=['diagnosis'])\n",
    "print(df_final.isna().sum())"
   ],
   "metadata": {
    "collapsed": false
   }
  },
  {
   "cell_type": "code",
   "execution_count": 72,
   "outputs": [
    {
     "name": "stdout",
     "output_type": "stream",
     "text": [
      "subject_id                  0\n",
      "hadm_id                     0\n",
      "icustay_id                  0\n",
      "dbsource                    0\n",
      "los                         0\n",
      "ethnicity                   0\n",
      "diagnosis                   0\n",
      "gender                      0\n",
      "age                         0\n",
      "mortality_inhospital        0\n",
      "dischtime                   0\n",
      "Case Management         41061\n",
      "Consult                 42073\n",
      "Discharge summary        1137\n",
      "ECG                      4852\n",
      "Echo                    19522\n",
      "General                 38082\n",
      "Nursing                 32117\n",
      "Nursing/other           16989\n",
      "Nutrition               38403\n",
      "Pharmacy                42024\n",
      "Physician               32196\n",
      "Radiology                6251\n",
      "Rehab Services          39694\n",
      "Respiratory             37520\n",
      "Social Work             40386\n",
      "Base_Excess                 0\n",
      "Glucose_1                   0\n",
      "Hemoglobin_2                0\n",
      "Lactate                     0\n",
      "pCO2                        0\n",
      "pH_1                        0\n",
      "pO2                         0\n",
      "Albumin                     0\n",
      "Anion_Gap                   0\n",
      "Bicarbonate                 0\n",
      "Bilirubin_Total             0\n",
      "Chloride                    0\n",
      "Glucose_3                   0\n",
      "Potassium_2                 0\n",
      "Sodium                      0\n",
      "Hematocrit_1                0\n",
      "Hemoglobin_1                0\n",
      "pH_2                        0\n",
      "dtype: int64\n"
     ]
    }
   ],
   "source": [
    "#merge with labevents\n",
    "new_data= df_final.merge(labevents_pivot, on='subject_id', how='inner')\n",
    "print(new_data.isna().sum())"
   ],
   "metadata": {
    "collapsed": false
   }
  },
  {
   "cell_type": "code",
   "execution_count": 73,
   "outputs": [
    {
     "data": {
      "text/plain": "   subject_id  hadm_id  icustay_id dbsource     los               ethnicity  \\\n0         268   110404      280836  carevue  3.2490      HISPANIC OR LATINO   \n1         269   106296      206613  carevue  3.2788                   WHITE   \n2         270   188028      220345  carevue  2.8939   UNKNOWN/NOT SPECIFIED   \n3         272   164716      210407  carevue  1.6202                   WHITE   \n4         273   158689      241507  carevue  1.4862  BLACK/AFRICAN AMERICAN   \n\n                                      diagnosis gender        age  \\\n0                                       DYSPNEA      F  66.030075   \n1                      SEPSIS;PILONIDAL ABSCESS      M  40.127294   \n2  CAROTID STENOSIS\\CAROTID ANGIOGRAM AND STENT      M  80.133229   \n3                             PULMONARY EMBOLIS      M  67.142139   \n4                        POLYSUBSTANCE OVERDOSE      M  33.715776   \n\n          dischtime  ... Bicarbonate Bilirubin_Total Chloride Glucose_3  \\\n0   18/02/2198 3:55  ...         1.0             0.0      1.0       1.0   \n1  27/11/2170 18:00  ...         1.0             0.0      1.0       1.0   \n2  27/06/2128 12:31  ...         1.0             0.0      1.0       1.0   \n3  02/01/2187 14:57  ...         0.0             0.0      0.0       0.0   \n4  20/04/2141 17:00  ...         0.0             0.0      0.0       1.0   \n\n  Potassium_2 Sodium Hematocrit_1 Hemoglobin_1 pH_2 mortality_inhospital  \n0         0.0    1.0          1.0          1.0  0.0                    1  \n1         0.0    1.0          1.0          1.0  0.0                    0  \n2         1.0    0.0          1.0          1.0  0.0                    0  \n3         0.0    0.0          1.0          1.0  0.0                    0  \n4         0.0    0.0          1.0          1.0  0.0                    0  \n\n[5 rows x 44 columns]",
      "text/html": "<div>\n<style scoped>\n    .dataframe tbody tr th:only-of-type {\n        vertical-align: middle;\n    }\n\n    .dataframe tbody tr th {\n        vertical-align: top;\n    }\n\n    .dataframe thead th {\n        text-align: right;\n    }\n</style>\n<table border=\"1\" class=\"dataframe\">\n  <thead>\n    <tr style=\"text-align: right;\">\n      <th></th>\n      <th>subject_id</th>\n      <th>hadm_id</th>\n      <th>icustay_id</th>\n      <th>dbsource</th>\n      <th>los</th>\n      <th>ethnicity</th>\n      <th>diagnosis</th>\n      <th>gender</th>\n      <th>age</th>\n      <th>dischtime</th>\n      <th>...</th>\n      <th>Bicarbonate</th>\n      <th>Bilirubin_Total</th>\n      <th>Chloride</th>\n      <th>Glucose_3</th>\n      <th>Potassium_2</th>\n      <th>Sodium</th>\n      <th>Hematocrit_1</th>\n      <th>Hemoglobin_1</th>\n      <th>pH_2</th>\n      <th>mortality_inhospital</th>\n    </tr>\n  </thead>\n  <tbody>\n    <tr>\n      <th>0</th>\n      <td>268</td>\n      <td>110404</td>\n      <td>280836</td>\n      <td>carevue</td>\n      <td>3.2490</td>\n      <td>HISPANIC OR LATINO</td>\n      <td>DYSPNEA</td>\n      <td>F</td>\n      <td>66.030075</td>\n      <td>18/02/2198 3:55</td>\n      <td>...</td>\n      <td>1.0</td>\n      <td>0.0</td>\n      <td>1.0</td>\n      <td>1.0</td>\n      <td>0.0</td>\n      <td>1.0</td>\n      <td>1.0</td>\n      <td>1.0</td>\n      <td>0.0</td>\n      <td>1</td>\n    </tr>\n    <tr>\n      <th>1</th>\n      <td>269</td>\n      <td>106296</td>\n      <td>206613</td>\n      <td>carevue</td>\n      <td>3.2788</td>\n      <td>WHITE</td>\n      <td>SEPSIS;PILONIDAL ABSCESS</td>\n      <td>M</td>\n      <td>40.127294</td>\n      <td>27/11/2170 18:00</td>\n      <td>...</td>\n      <td>1.0</td>\n      <td>0.0</td>\n      <td>1.0</td>\n      <td>1.0</td>\n      <td>0.0</td>\n      <td>1.0</td>\n      <td>1.0</td>\n      <td>1.0</td>\n      <td>0.0</td>\n      <td>0</td>\n    </tr>\n    <tr>\n      <th>2</th>\n      <td>270</td>\n      <td>188028</td>\n      <td>220345</td>\n      <td>carevue</td>\n      <td>2.8939</td>\n      <td>UNKNOWN/NOT SPECIFIED</td>\n      <td>CAROTID STENOSIS\\CAROTID ANGIOGRAM AND STENT</td>\n      <td>M</td>\n      <td>80.133229</td>\n      <td>27/06/2128 12:31</td>\n      <td>...</td>\n      <td>1.0</td>\n      <td>0.0</td>\n      <td>1.0</td>\n      <td>1.0</td>\n      <td>1.0</td>\n      <td>0.0</td>\n      <td>1.0</td>\n      <td>1.0</td>\n      <td>0.0</td>\n      <td>0</td>\n    </tr>\n    <tr>\n      <th>3</th>\n      <td>272</td>\n      <td>164716</td>\n      <td>210407</td>\n      <td>carevue</td>\n      <td>1.6202</td>\n      <td>WHITE</td>\n      <td>PULMONARY EMBOLIS</td>\n      <td>M</td>\n      <td>67.142139</td>\n      <td>02/01/2187 14:57</td>\n      <td>...</td>\n      <td>0.0</td>\n      <td>0.0</td>\n      <td>0.0</td>\n      <td>0.0</td>\n      <td>0.0</td>\n      <td>0.0</td>\n      <td>1.0</td>\n      <td>1.0</td>\n      <td>0.0</td>\n      <td>0</td>\n    </tr>\n    <tr>\n      <th>4</th>\n      <td>273</td>\n      <td>158689</td>\n      <td>241507</td>\n      <td>carevue</td>\n      <td>1.4862</td>\n      <td>BLACK/AFRICAN AMERICAN</td>\n      <td>POLYSUBSTANCE OVERDOSE</td>\n      <td>M</td>\n      <td>33.715776</td>\n      <td>20/04/2141 17:00</td>\n      <td>...</td>\n      <td>0.0</td>\n      <td>0.0</td>\n      <td>0.0</td>\n      <td>1.0</td>\n      <td>0.0</td>\n      <td>0.0</td>\n      <td>1.0</td>\n      <td>1.0</td>\n      <td>0.0</td>\n      <td>0</td>\n    </tr>\n  </tbody>\n</table>\n<p>5 rows × 44 columns</p>\n</div>"
     },
     "execution_count": 73,
     "metadata": {},
     "output_type": "execute_result"
    }
   ],
   "source": [
    "\n",
    "cols = new_data.columns.tolist()\n",
    "cols.remove('mortality_inhospital')\n",
    "cols.append('mortality_inhospital')\n",
    "new_data = new_data[cols]\n",
    "new_data.head()"
   ],
   "metadata": {
    "collapsed": false
   }
  },
  {
   "cell_type": "code",
   "execution_count": 75,
   "outputs": [
    {
     "ename": "KeyError",
     "evalue": "\"['dbsource'] not found in axis\"",
     "output_type": "error",
     "traceback": [
      "\u001B[1;31m---------------------------------------------------------------------------\u001B[0m",
      "\u001B[1;31mKeyError\u001B[0m                                  Traceback (most recent call last)",
      "Cell \u001B[1;32mIn[75], line 2\u001B[0m\n\u001B[0;32m      1\u001B[0m \u001B[38;5;66;03m#drop dbsource column\u001B[39;00m\n\u001B[1;32m----> 2\u001B[0m \u001B[43mnew_data\u001B[49m\u001B[38;5;241;43m.\u001B[39;49m\u001B[43mdrop\u001B[49m\u001B[43m(\u001B[49m\u001B[38;5;124;43m'\u001B[39;49m\u001B[38;5;124;43mdbsource\u001B[39;49m\u001B[38;5;124;43m'\u001B[39;49m\u001B[43m,\u001B[49m\u001B[43m \u001B[49m\u001B[43maxis\u001B[49m\u001B[38;5;241;43m=\u001B[39;49m\u001B[38;5;241;43m1\u001B[39;49m\u001B[43m,\u001B[49m\u001B[43m \u001B[49m\u001B[43minplace\u001B[49m\u001B[38;5;241;43m=\u001B[39;49m\u001B[38;5;28;43;01mTrue\u001B[39;49;00m\u001B[43m)\u001B[49m\n\u001B[0;32m      3\u001B[0m new_data[\u001B[38;5;124m'\u001B[39m\u001B[38;5;124mgender\u001B[39m\u001B[38;5;124m'\u001B[39m] \u001B[38;5;241m=\u001B[39m new_data[\u001B[38;5;124m'\u001B[39m\u001B[38;5;124mgender\u001B[39m\u001B[38;5;124m'\u001B[39m]\u001B[38;5;241m.\u001B[39mreplace({\u001B[38;5;124m'\u001B[39m\u001B[38;5;124mM\u001B[39m\u001B[38;5;124m'\u001B[39m: \u001B[38;5;241m0\u001B[39m, \u001B[38;5;124m'\u001B[39m\u001B[38;5;124mF\u001B[39m\u001B[38;5;124m'\u001B[39m: \u001B[38;5;241m1\u001B[39m})\n\u001B[0;32m      4\u001B[0m \u001B[38;5;66;03m#remove rows with missing values in gender\u001B[39;00m\n\u001B[0;32m      5\u001B[0m \u001B[38;5;66;03m# new_data= new_data.dropna(subset=['gender'])\u001B[39;00m\n",
      "File \u001B[1;32m~\\AppData\\Local\\Programs\\Python\\Python39\\lib\\site-packages\\pandas\\core\\frame.py:5581\u001B[0m, in \u001B[0;36mDataFrame.drop\u001B[1;34m(self, labels, axis, index, columns, level, inplace, errors)\u001B[0m\n\u001B[0;32m   5433\u001B[0m \u001B[38;5;28;01mdef\u001B[39;00m \u001B[38;5;21mdrop\u001B[39m(\n\u001B[0;32m   5434\u001B[0m     \u001B[38;5;28mself\u001B[39m,\n\u001B[0;32m   5435\u001B[0m     labels: IndexLabel \u001B[38;5;241m|\u001B[39m \u001B[38;5;28;01mNone\u001B[39;00m \u001B[38;5;241m=\u001B[39m \u001B[38;5;28;01mNone\u001B[39;00m,\n\u001B[1;32m   (...)\u001B[0m\n\u001B[0;32m   5442\u001B[0m     errors: IgnoreRaise \u001B[38;5;241m=\u001B[39m \u001B[38;5;124m\"\u001B[39m\u001B[38;5;124mraise\u001B[39m\u001B[38;5;124m\"\u001B[39m,\n\u001B[0;32m   5443\u001B[0m ) \u001B[38;5;241m-\u001B[39m\u001B[38;5;241m>\u001B[39m DataFrame \u001B[38;5;241m|\u001B[39m \u001B[38;5;28;01mNone\u001B[39;00m:\n\u001B[0;32m   5444\u001B[0m \u001B[38;5;250m    \u001B[39m\u001B[38;5;124;03m\"\"\"\u001B[39;00m\n\u001B[0;32m   5445\u001B[0m \u001B[38;5;124;03m    Drop specified labels from rows or columns.\u001B[39;00m\n\u001B[0;32m   5446\u001B[0m \n\u001B[1;32m   (...)\u001B[0m\n\u001B[0;32m   5579\u001B[0m \u001B[38;5;124;03m            weight  1.0     0.8\u001B[39;00m\n\u001B[0;32m   5580\u001B[0m \u001B[38;5;124;03m    \"\"\"\u001B[39;00m\n\u001B[1;32m-> 5581\u001B[0m     \u001B[38;5;28;01mreturn\u001B[39;00m \u001B[38;5;28;43msuper\u001B[39;49m\u001B[43m(\u001B[49m\u001B[43m)\u001B[49m\u001B[38;5;241;43m.\u001B[39;49m\u001B[43mdrop\u001B[49m\u001B[43m(\u001B[49m\n\u001B[0;32m   5582\u001B[0m \u001B[43m        \u001B[49m\u001B[43mlabels\u001B[49m\u001B[38;5;241;43m=\u001B[39;49m\u001B[43mlabels\u001B[49m\u001B[43m,\u001B[49m\n\u001B[0;32m   5583\u001B[0m \u001B[43m        \u001B[49m\u001B[43maxis\u001B[49m\u001B[38;5;241;43m=\u001B[39;49m\u001B[43maxis\u001B[49m\u001B[43m,\u001B[49m\n\u001B[0;32m   5584\u001B[0m \u001B[43m        \u001B[49m\u001B[43mindex\u001B[49m\u001B[38;5;241;43m=\u001B[39;49m\u001B[43mindex\u001B[49m\u001B[43m,\u001B[49m\n\u001B[0;32m   5585\u001B[0m \u001B[43m        \u001B[49m\u001B[43mcolumns\u001B[49m\u001B[38;5;241;43m=\u001B[39;49m\u001B[43mcolumns\u001B[49m\u001B[43m,\u001B[49m\n\u001B[0;32m   5586\u001B[0m \u001B[43m        \u001B[49m\u001B[43mlevel\u001B[49m\u001B[38;5;241;43m=\u001B[39;49m\u001B[43mlevel\u001B[49m\u001B[43m,\u001B[49m\n\u001B[0;32m   5587\u001B[0m \u001B[43m        \u001B[49m\u001B[43minplace\u001B[49m\u001B[38;5;241;43m=\u001B[39;49m\u001B[43minplace\u001B[49m\u001B[43m,\u001B[49m\n\u001B[0;32m   5588\u001B[0m \u001B[43m        \u001B[49m\u001B[43merrors\u001B[49m\u001B[38;5;241;43m=\u001B[39;49m\u001B[43merrors\u001B[49m\u001B[43m,\u001B[49m\n\u001B[0;32m   5589\u001B[0m \u001B[43m    \u001B[49m\u001B[43m)\u001B[49m\n",
      "File \u001B[1;32m~\\AppData\\Local\\Programs\\Python\\Python39\\lib\\site-packages\\pandas\\core\\generic.py:4788\u001B[0m, in \u001B[0;36mNDFrame.drop\u001B[1;34m(self, labels, axis, index, columns, level, inplace, errors)\u001B[0m\n\u001B[0;32m   4786\u001B[0m \u001B[38;5;28;01mfor\u001B[39;00m axis, labels \u001B[38;5;129;01min\u001B[39;00m axes\u001B[38;5;241m.\u001B[39mitems():\n\u001B[0;32m   4787\u001B[0m     \u001B[38;5;28;01mif\u001B[39;00m labels \u001B[38;5;129;01mis\u001B[39;00m \u001B[38;5;129;01mnot\u001B[39;00m \u001B[38;5;28;01mNone\u001B[39;00m:\n\u001B[1;32m-> 4788\u001B[0m         obj \u001B[38;5;241m=\u001B[39m \u001B[43mobj\u001B[49m\u001B[38;5;241;43m.\u001B[39;49m\u001B[43m_drop_axis\u001B[49m\u001B[43m(\u001B[49m\u001B[43mlabels\u001B[49m\u001B[43m,\u001B[49m\u001B[43m \u001B[49m\u001B[43maxis\u001B[49m\u001B[43m,\u001B[49m\u001B[43m \u001B[49m\u001B[43mlevel\u001B[49m\u001B[38;5;241;43m=\u001B[39;49m\u001B[43mlevel\u001B[49m\u001B[43m,\u001B[49m\u001B[43m \u001B[49m\u001B[43merrors\u001B[49m\u001B[38;5;241;43m=\u001B[39;49m\u001B[43merrors\u001B[49m\u001B[43m)\u001B[49m\n\u001B[0;32m   4790\u001B[0m \u001B[38;5;28;01mif\u001B[39;00m inplace:\n\u001B[0;32m   4791\u001B[0m     \u001B[38;5;28mself\u001B[39m\u001B[38;5;241m.\u001B[39m_update_inplace(obj)\n",
      "File \u001B[1;32m~\\AppData\\Local\\Programs\\Python\\Python39\\lib\\site-packages\\pandas\\core\\generic.py:4830\u001B[0m, in \u001B[0;36mNDFrame._drop_axis\u001B[1;34m(self, labels, axis, level, errors, only_slice)\u001B[0m\n\u001B[0;32m   4828\u001B[0m         new_axis \u001B[38;5;241m=\u001B[39m axis\u001B[38;5;241m.\u001B[39mdrop(labels, level\u001B[38;5;241m=\u001B[39mlevel, errors\u001B[38;5;241m=\u001B[39merrors)\n\u001B[0;32m   4829\u001B[0m     \u001B[38;5;28;01melse\u001B[39;00m:\n\u001B[1;32m-> 4830\u001B[0m         new_axis \u001B[38;5;241m=\u001B[39m \u001B[43maxis\u001B[49m\u001B[38;5;241;43m.\u001B[39;49m\u001B[43mdrop\u001B[49m\u001B[43m(\u001B[49m\u001B[43mlabels\u001B[49m\u001B[43m,\u001B[49m\u001B[43m \u001B[49m\u001B[43merrors\u001B[49m\u001B[38;5;241;43m=\u001B[39;49m\u001B[43merrors\u001B[49m\u001B[43m)\u001B[49m\n\u001B[0;32m   4831\u001B[0m     indexer \u001B[38;5;241m=\u001B[39m axis\u001B[38;5;241m.\u001B[39mget_indexer(new_axis)\n\u001B[0;32m   4833\u001B[0m \u001B[38;5;66;03m# Case for non-unique axis\u001B[39;00m\n\u001B[0;32m   4834\u001B[0m \u001B[38;5;28;01melse\u001B[39;00m:\n",
      "File \u001B[1;32m~\\AppData\\Local\\Programs\\Python\\Python39\\lib\\site-packages\\pandas\\core\\indexes\\base.py:7070\u001B[0m, in \u001B[0;36mIndex.drop\u001B[1;34m(self, labels, errors)\u001B[0m\n\u001B[0;32m   7068\u001B[0m \u001B[38;5;28;01mif\u001B[39;00m mask\u001B[38;5;241m.\u001B[39many():\n\u001B[0;32m   7069\u001B[0m     \u001B[38;5;28;01mif\u001B[39;00m errors \u001B[38;5;241m!=\u001B[39m \u001B[38;5;124m\"\u001B[39m\u001B[38;5;124mignore\u001B[39m\u001B[38;5;124m\"\u001B[39m:\n\u001B[1;32m-> 7070\u001B[0m         \u001B[38;5;28;01mraise\u001B[39;00m \u001B[38;5;167;01mKeyError\u001B[39;00m(\u001B[38;5;124mf\u001B[39m\u001B[38;5;124m\"\u001B[39m\u001B[38;5;132;01m{\u001B[39;00mlabels[mask]\u001B[38;5;241m.\u001B[39mtolist()\u001B[38;5;132;01m}\u001B[39;00m\u001B[38;5;124m not found in axis\u001B[39m\u001B[38;5;124m\"\u001B[39m)\n\u001B[0;32m   7071\u001B[0m     indexer \u001B[38;5;241m=\u001B[39m indexer[\u001B[38;5;241m~\u001B[39mmask]\n\u001B[0;32m   7072\u001B[0m \u001B[38;5;28;01mreturn\u001B[39;00m \u001B[38;5;28mself\u001B[39m\u001B[38;5;241m.\u001B[39mdelete(indexer)\n",
      "\u001B[1;31mKeyError\u001B[0m: \"['dbsource'] not found in axis\""
     ]
    }
   ],
   "source": [
    "#drop dbsource column\n",
    "new_data.drop('dbsource', axis=1, inplace=True)\n",
    "new_data['gender'] = new_data['gender'].replace({'M': 0, 'F': 1})\n",
    "#remove rows with missing values in gender\n",
    "# new_data= new_data.dropna(subset=['gender'])"
   ],
   "metadata": {
    "collapsed": false
   }
  },
  {
   "cell_type": "code",
   "execution_count": 76,
   "outputs": [
    {
     "data": {
      "text/plain": "ethnicity\nWHITE                                                       29804\nBLACK/AFRICAN AMERICAN                                       3802\nUNKNOWN/NOT SPECIFIED                                        3355\nHISPANIC OR LATINO                                           1126\nOTHER                                                         943\nUNABLE TO OBTAIN                                              627\nASIAN                                                         625\nPATIENT DECLINED TO ANSWER                                    387\nASIAN - CHINESE                                               201\nHISPANIC/LATINO - PUERTO RICAN                                193\nBLACK/CAPE VERDEAN                                            151\nWHITE - RUSSIAN                                               141\nBLACK/HAITIAN                                                  87\nMULTI RACE ETHNICITY                                           83\nWHITE - OTHER EUROPEAN                                         65\nASIAN - ASIAN INDIAN                                           63\nHISPANIC/LATINO - DOMINICAN                                    63\nPORTUGUESE                                                     49\nASIAN - VIETNAMESE                                             42\nWHITE - BRAZILIAN                                              41\nBLACK/AFRICAN                                                  36\nMIDDLE EASTERN                                                 33\nHISPANIC/LATINO - GUATEMALAN                                   31\nASIAN - FILIPINO                                               21\nWHITE - EASTERN EUROPEAN                                       21\nHISPANIC/LATINO - CUBAN                                        19\nAMERICAN INDIAN/ALASKA NATIVE                                  17\nASIAN - CAMBODIAN                                              14\nNATIVE HAWAIIAN OR OTHER PACIFIC ISLANDER                      14\nHISPANIC/LATINO - SALVADORAN                                   13\nHISPANIC/LATINO - CENTRAL AMERICAN (OTHER)                     10\nHISPANIC/LATINO - MEXICAN                                      10\nCARIBBEAN ISLAND                                                9\nASIAN - OTHER                                                   9\nASIAN - KOREAN                                                  9\nHISPANIC/LATINO - COLOMBIAN                                     6\nASIAN - JAPANESE                                                6\nSOUTH AMERICAN                                                  5\nASIAN - THAI                                                    4\nHISPANIC/LATINO - HONDURAN                                      3\nAMERICAN INDIAN/ALASKA NATIVE FEDERALLY RECOGNIZED TRIBE        3\nName: count, dtype: int64"
     },
     "execution_count": 76,
     "metadata": {},
     "output_type": "execute_result"
    }
   ],
   "source": [
    "new_data['ethnicity'].value_counts()"
   ],
   "metadata": {
    "collapsed": false
   }
  },
  {
   "cell_type": "code",
   "execution_count": 77,
   "outputs": [],
   "source": [
    "# Define the mapping for broader categories, with \"Unknown\" categories mapped to \"Other\"\n",
    "category_mapping = {\n",
    "    'WHITE - RUSSIAN' : 'White',\n",
    "    'WHITE - OTHER EUROPEAN': 'White',\n",
    "    'WHITE - EASTERN EUROPEAN': 'White',\n",
    "    'WHITE - BRAZILIAN': 'White',\n",
    "\n",
    "    'WHITE': 'White',\n",
    "    'BLACK/AFRICAN AMERICAN': 'Black',\n",
    "    'BLACK/CAPE VERDEAN': 'Black',\n",
    "    'BLACK/HAITIAN': 'Black',\n",
    "    'BLACK/AFRICAN': 'Black',\n",
    "    'HISPANIC OR LATINO': 'Latino',\n",
    "    'HISPANIC/LATINO - PUERTO RICAN': 'Latino',\n",
    "    'HISPANIC/LATINO - DOMINICAN': 'Latino',\n",
    "    'HISPANIC/LATINO - GUATEMALAN': 'Latino',\n",
    "    'HISPANIC/LATINO - CUBAN': 'Latino',\n",
    "    'HISPANIC/LATINO - SALVADORAN': 'Latino',\n",
    "    'HISPANIC/LATINO - CENTRAL AMERICAN (OTHER)': 'Latino',\n",
    "    'HISPANIC/LATINO - MEXICAN': 'Latino',\n",
    "    'HISPANIC/LATINO - COLOMBIAN': 'Latino',\n",
    "    'HISPANIC/LATINO - HONDURAN': 'Latino',\n",
    "    'HISPANIC/LATINO - OTHER': 'Latino',\n",
    "    'ASIAN': 'Asian',\n",
    "    'ASIAN - CHINESE': 'Asian',\n",
    "    'ASIAN - ASIAN INDIAN': 'Asian',\n",
    "    'ASIAN - VIETNAMESE': 'Asian',\n",
    "    'ASIAN - FILIPINO': 'Asian',\n",
    "    'ASIAN - CAMBODIAN': 'Asian',\n",
    "    'ASIAN - OTHER': 'Asian',\n",
    "    'ASIAN - KOREAN': 'Asian',\n",
    "    'ASIAN - JAPANESE': 'Asian',\n",
    "    'ASIAN - THAI': 'Asian',\n",
    "    'OTHER': 'Other',\n",
    "    'PORTUGUESE': 'Other',\n",
    "    'CARIBBEAN ISLAND': 'Other',\n",
    "    'SOUTH AMERICAN': 'Other',\n",
    "    'MIDDLE EASTERN': 'Other',\n",
    "    'NATIVE HAWAIIAN OR OTHER PACIFIC ISLANDER': 'Other',\n",
    "    'AMERICAN INDIAN/ALASKA NATIVE': 'Other',\n",
    "    'AMERICAN INDIAN/ALASKA NATIVE FEDERALLY RECOGNIZED TRIBE': 'Other',\n",
    "    'MULTI RACE ETHNICITY': 'Other',\n",
    "    'UNKNOWN/NOT SPECIFIED': 'Other',\n",
    "    'UNABLE TO OBTAIN': 'Other',\n",
    "    'PATIENT DECLINED TO ANSWER': 'Other'\n",
    "}\n",
    "\n",
    "# Apply the mapping to the 'category' column\n",
    "new_data['ethnicity'] = new_data['ethnicity'].replace(category_mapping)\n"
   ],
   "metadata": {
    "collapsed": false
   }
  },
  {
   "cell_type": "code",
   "execution_count": 78,
   "outputs": [
    {
     "data": {
      "text/plain": "   subject_id  hadm_id  icustay_id     los ethnicity  \\\n0           3   145834      211552  6.0646     White   \n1           4   185777      294638  1.6785     White   \n2           6   107064      228232  3.6729     White   \n3           9   150750      220597  5.3231     Other   \n4          11   194540      229441  1.5844     White   \n\n                             diagnosis  gender        age Case Management   \\\n0                          HYPOTENSION       0  76.577531             None   \n1  FEVER,DEHYDRATION,FAILURE TO THRIVE       1  47.876768             None   \n2            CHRONIC RENAL FAILURE/SDA       1  65.986018             None   \n3                      HEMORRHAGIC CVA       0  41.817936             None   \n4                           BRAIN MASS       1  50.181544             None   \n\n  Consult  ... Bicarbonate Bilirubin_Total Chloride Glucose_3 Potassium_2  \\\n0    None  ...         1.0             0.0      1.0       1.0         1.0   \n1    None  ...         1.0             1.0      1.0       1.0         1.0   \n2    None  ...         1.0             0.0      1.0       1.0         1.0   \n3    None  ...         1.0             0.0      0.0       1.0         1.0   \n4    None  ...         0.0             0.0      0.0       1.0         0.0   \n\n  Sodium Hematocrit_1 Hemoglobin_1 pH_2 mortality_inhospital  \n0    1.0          1.0          1.0  0.0                    0  \n1    1.0          1.0          1.0  0.0                    0  \n2    1.0          1.0          1.0  0.0                    0  \n3    1.0          1.0          1.0  0.0                    1  \n4    0.0          1.0          1.0  0.0                    0  \n\n[5 rows x 42 columns]",
      "text/html": "<div>\n<style scoped>\n    .dataframe tbody tr th:only-of-type {\n        vertical-align: middle;\n    }\n\n    .dataframe tbody tr th {\n        vertical-align: top;\n    }\n\n    .dataframe thead th {\n        text-align: right;\n    }\n</style>\n<table border=\"1\" class=\"dataframe\">\n  <thead>\n    <tr style=\"text-align: right;\">\n      <th></th>\n      <th>subject_id</th>\n      <th>hadm_id</th>\n      <th>icustay_id</th>\n      <th>los</th>\n      <th>ethnicity</th>\n      <th>diagnosis</th>\n      <th>gender</th>\n      <th>age</th>\n      <th>Case Management</th>\n      <th>Consult</th>\n      <th>...</th>\n      <th>Bicarbonate</th>\n      <th>Bilirubin_Total</th>\n      <th>Chloride</th>\n      <th>Glucose_3</th>\n      <th>Potassium_2</th>\n      <th>Sodium</th>\n      <th>Hematocrit_1</th>\n      <th>Hemoglobin_1</th>\n      <th>pH_2</th>\n      <th>mortality_inhospital</th>\n    </tr>\n  </thead>\n  <tbody>\n    <tr>\n      <th>0</th>\n      <td>3</td>\n      <td>145834</td>\n      <td>211552</td>\n      <td>6.0646</td>\n      <td>White</td>\n      <td>HYPOTENSION</td>\n      <td>0</td>\n      <td>76.577531</td>\n      <td>None</td>\n      <td>None</td>\n      <td>...</td>\n      <td>1.0</td>\n      <td>0.0</td>\n      <td>1.0</td>\n      <td>1.0</td>\n      <td>1.0</td>\n      <td>1.0</td>\n      <td>1.0</td>\n      <td>1.0</td>\n      <td>0.0</td>\n      <td>0</td>\n    </tr>\n    <tr>\n      <th>1</th>\n      <td>4</td>\n      <td>185777</td>\n      <td>294638</td>\n      <td>1.6785</td>\n      <td>White</td>\n      <td>FEVER,DEHYDRATION,FAILURE TO THRIVE</td>\n      <td>1</td>\n      <td>47.876768</td>\n      <td>None</td>\n      <td>None</td>\n      <td>...</td>\n      <td>1.0</td>\n      <td>1.0</td>\n      <td>1.0</td>\n      <td>1.0</td>\n      <td>1.0</td>\n      <td>1.0</td>\n      <td>1.0</td>\n      <td>1.0</td>\n      <td>0.0</td>\n      <td>0</td>\n    </tr>\n    <tr>\n      <th>2</th>\n      <td>6</td>\n      <td>107064</td>\n      <td>228232</td>\n      <td>3.6729</td>\n      <td>White</td>\n      <td>CHRONIC RENAL FAILURE/SDA</td>\n      <td>1</td>\n      <td>65.986018</td>\n      <td>None</td>\n      <td>None</td>\n      <td>...</td>\n      <td>1.0</td>\n      <td>0.0</td>\n      <td>1.0</td>\n      <td>1.0</td>\n      <td>1.0</td>\n      <td>1.0</td>\n      <td>1.0</td>\n      <td>1.0</td>\n      <td>0.0</td>\n      <td>0</td>\n    </tr>\n    <tr>\n      <th>3</th>\n      <td>9</td>\n      <td>150750</td>\n      <td>220597</td>\n      <td>5.3231</td>\n      <td>Other</td>\n      <td>HEMORRHAGIC CVA</td>\n      <td>0</td>\n      <td>41.817936</td>\n      <td>None</td>\n      <td>None</td>\n      <td>...</td>\n      <td>1.0</td>\n      <td>0.0</td>\n      <td>0.0</td>\n      <td>1.0</td>\n      <td>1.0</td>\n      <td>1.0</td>\n      <td>1.0</td>\n      <td>1.0</td>\n      <td>0.0</td>\n      <td>1</td>\n    </tr>\n    <tr>\n      <th>4</th>\n      <td>11</td>\n      <td>194540</td>\n      <td>229441</td>\n      <td>1.5844</td>\n      <td>White</td>\n      <td>BRAIN MASS</td>\n      <td>1</td>\n      <td>50.181544</td>\n      <td>None</td>\n      <td>None</td>\n      <td>...</td>\n      <td>0.0</td>\n      <td>0.0</td>\n      <td>0.0</td>\n      <td>1.0</td>\n      <td>0.0</td>\n      <td>0.0</td>\n      <td>1.0</td>\n      <td>1.0</td>\n      <td>0.0</td>\n      <td>0</td>\n    </tr>\n  </tbody>\n</table>\n<p>5 rows × 42 columns</p>\n</div>"
     },
     "execution_count": 78,
     "metadata": {},
     "output_type": "execute_result"
    }
   ],
   "source": [
    "new_data['dischtime'] = pd.to_datetime(new_data['dischtime'], format='%d/%m/%Y %H:%M')\n",
    "\n",
    "df_sorted = new_data.sort_values(by=['subject_id', 'dischtime'], ascending=[True, False])\n",
    "\n",
    "df_latest_dischtime = df_sorted.groupby('subject_id').first().reset_index()\n",
    "df_latest_dischtime.drop('dischtime', axis=1, inplace=True)\n",
    "\n",
    "df_latest_dischtime.head()"
   ],
   "metadata": {
    "collapsed": false
   }
  },
  {
   "cell_type": "code",
   "execution_count": 79,
   "outputs": [],
   "source": [
    "#create columns for different ethnicity\n",
    "df_one_hot = pd.get_dummies(df_latest_dischtime['ethnicity'], prefix='ethnicity')\n",
    "\n",
    "# Step 6: Concatenate the one-hot columns back to the original DataFrame\n",
    "df = pd.concat([df_latest_dischtime, df_one_hot], axis=1)"
   ],
   "metadata": {
    "collapsed": false
   }
  },
  {
   "cell_type": "code",
   "execution_count": 80,
   "outputs": [],
   "source": [
    "new_data.drop('ethnicity', axis=1, inplace=True)"
   ],
   "metadata": {
    "collapsed": false
   }
  },
  {
   "cell_type": "code",
   "execution_count": 81,
   "outputs": [
    {
     "name": "stdout",
     "output_type": "stream",
     "text": [
      "subject_id                  0\n",
      "hadm_id                     0\n",
      "icustay_id                  0\n",
      "los                         0\n",
      "diagnosis                   0\n",
      "gender                      0\n",
      "age                         0\n",
      "Case Management         33199\n",
      "Consult                 33630\n",
      "Discharge summary        1112\n",
      "ECG                      4715\n",
      "Echo                    17475\n",
      "General                 31335\n",
      "Nursing                 27019\n",
      "Nursing/other           14406\n",
      "Nutrition               31448\n",
      "Pharmacy                33612\n",
      "Physician               27086\n",
      "Radiology                4959\n",
      "Rehab Services          32043\n",
      "Respiratory             30760\n",
      "Social Work             32636\n",
      "Base_Excess                 0\n",
      "Glucose_1                   0\n",
      "Hemoglobin_2                0\n",
      "Lactate                     0\n",
      "pCO2                        0\n",
      "pH_1                        0\n",
      "pO2                         0\n",
      "Albumin                     0\n",
      "Anion_Gap                   0\n",
      "Bicarbonate                 0\n",
      "Bilirubin_Total             0\n",
      "Chloride                    0\n",
      "Glucose_3                   0\n",
      "Potassium_2                 0\n",
      "Sodium                      0\n",
      "Hematocrit_1                0\n",
      "Hemoglobin_1                0\n",
      "pH_2                        0\n",
      "mortality_inhospital        0\n",
      "dtype: int64\n"
     ]
    }
   ],
   "source": [
    "new_data['dischtime'] = pd.to_datetime(new_data['dischtime'], format='%d/%m/%Y %H:%M')\n",
    "\n",
    "new_data = new_data.sort_values(by=['subject_id', 'dischtime'], ascending=[True, False])\n",
    "\n",
    "new_data = new_data.groupby('subject_id').first().reset_index()\n",
    "new_data.drop('dischtime', axis=1, inplace=True)\n",
    "print(new_data.isna().sum())"
   ],
   "metadata": {
    "collapsed": false
   }
  },
  {
   "cell_type": "code",
   "execution_count": 82,
   "outputs": [],
   "source": [
    "#for all value_count less than  100 replace with 'Other'\n",
    "new_data['diagnosis'] = new_data['diagnosis'].mask(new_data['diagnosis'].map(new_data['diagnosis'].value_counts()) < 100, 'Other')"
   ],
   "metadata": {
    "collapsed": false
   }
  },
  {
   "cell_type": "code",
   "execution_count": 83,
   "outputs": [],
   "source": [
    "conditions_with_group_names = {\n",
    "    \"PNEUMONIA\": \"Cardiovascular Conditions\",\n",
    "    \"CORONARY ARTERY DISEASE\": \"Cardiovascular Conditions\",\n",
    "    \"CORONARY ARTERY DISEASE\\\\CORONARY ARTERY BYPASS GRAFT /SDA\": \"Cardiovascular Conditions\",\n",
    "    \"CORONARY ARTERY DISEASE\\\\CORONARY ARTERY BYPASS GRAFT/SDA\": \"Cardiovascular Conditions\",\n",
    "    \"CORONARY ARTERY DISEASE\\\\CATH\": \"Cardiovascular Conditions\",\n",
    "    \"ACUTE CORONARY SYNDROME\": \"Cardiovascular Conditions\",\n",
    "    \"MYOCARDIAL INFARCTION\": \"Cardiovascular Conditions\",\n",
    "    \"AORTIC STENOSIS\\\\AORTIC VALVE REPLACEMENT /SDA\": \"Cardiovascular Conditions\",\n",
    "    \"CHEST PAIN\": \"Cardiovascular Conditions\",\n",
    "    \"CHEST PAIN\\\\CATH\": \"Cardiovascular Conditions\",\n",
    "    \"CARDIAC ARREST\": \"Cardiovascular Conditions\",\n",
    "\n",
    "    \"INTRACRANIAL HEMORRHAGE\": \"Neurological Conditions\",\n",
    "    \"SUBARACHNOID HEMORRHAGE\": \"Neurological Conditions\",\n",
    "    \"STROKE;TELEMETRY;TRANSIENT ISCHEMIC ATTACK\": \"Neurological Conditions\",\n",
    "    \"SEIZURE\": \"Neurological Conditions\",\n",
    "    \"ALTERED MENTAL STATUS\": \"Neurological Conditions\",\n",
    "    \"SUBDURAL HEMATOMA\": \"Neurological Conditions\",\n",
    "    \"ACUTE SUBDURAL HEMATOMA\": \"Neurological Conditions\",\n",
    "    \"HEAD BLEED\": \"Neurological Conditions\",\n",
    "\n",
    "    \"RESPIRATORY FAILURE\": \"Respiratory Conditions\",\n",
    "    \"DYSPNEA\": \"Respiratory Conditions\",\n",
    "    \"SHORTNESS OF BREATH\": \"Respiratory Conditions\",\n",
    "\n",
    "    \"S/P FALL\": \"Trauma and Injury\",\n",
    "    \"S/P MOTOR VEHICLE ACCIDENT\": \"Trauma and Injury\",\n",
    "    \"BLUNT TRAUMA\": \"Trauma and Injury\",\n",
    "\n",
    "    \"GASTROINTESTINAL BLEED\": \"Gastrointestinal Conditions\",\n",
    "    \"UPPER GI BLEED\": \"Gastrointestinal Conditions\",\n",
    "    \"LOWER GI BLEED\": \"Gastrointestinal Conditions\",\n",
    "    \"PANCREATITIS\": \"Gastrointestinal Conditions\",\n",
    "    \"ACUTE MYOCARDIAL INFARCTION\": \"Gastrointestinal Conditions\",  # Appears here as well due to categorization overlap\n",
    "    \"UPPER GASTROINTESTINAL BLEED\": \"Gastrointestinal Conditions\",\n",
    "    \"LOWER GASTROINTESTINAL BLEED\": \"Gastrointestinal Conditions\",\n",
    "    \"ABDOMINAL PAIN\": \"Gastrointestinal Conditions\",\n",
    "\n",
    "    \"SEPSIS\": \"Infections\",\n",
    "    \"FEVER\": \"Infections\",\n",
    "    \"CELLULITIS\": \"Infections\",\n",
    "    \"OVERDOSE\": \"Infections\",\n",
    "\n",
    "    \"DIABETIC KETOACIDOSIS\": \"Metabolic and Endocrine Conditions\",\n",
    "    \"HYPOTENSION\": \"Metabolic and Endocrine Conditions\",\n",
    "    \"LIVER FAILURE\": \"Metabolic and Endocrine Conditions\",\n",
    "\n",
    "    \"ACUTE RENAL FAILURE\": \"Renal Conditions\"\n",
    "}\n",
    "# Apply the mapping to the 'category' column\n",
    "new_data['diagnosis'] = new_data['diagnosis'].replace(conditions_with_group_names)\n"
   ],
   "metadata": {
    "collapsed": false
   }
  },
  {
   "cell_type": "code",
   "execution_count": 84,
   "outputs": [
    {
     "data": {
      "text/plain": "diagnosis\nOther                                 22034\nCardiovascular Conditions              3690\nNeurological Conditions                2273\nGastrointestinal Conditions            1967\nInfections                             1280\nTrauma and Injury                       754\nMetabolic and Endocrine Conditions      613\nCONGESTIVE HEART FAILURE                486\nRespiratory Conditions                  399\nRenal Conditions                        167\nName: count, dtype: int64"
     },
     "execution_count": 84,
     "metadata": {},
     "output_type": "execute_result"
    }
   ],
   "source": [
    "new_data['diagnosis'].value_counts()"
   ],
   "metadata": {
    "collapsed": false
   }
  },
  {
   "cell_type": "code",
   "execution_count": 85,
   "outputs": [
    {
     "data": {
      "text/plain": "   subject_id  hadm_id  icustay_id     los  \\\n0           3   145834      211552  6.0646   \n1           4   185777      294638  1.6785   \n2           6   107064      228232  3.6729   \n3           9   150750      220597  5.3231   \n4          11   194540      229441  1.5844   \n\n                            diagnosis  gender        age Case Management   \\\n0  Metabolic and Endocrine Conditions       0  76.577531             None   \n1                               Other       1  47.876768             None   \n2                               Other       1  65.986018             None   \n3                               Other       0  41.817936             None   \n4                               Other       1  50.181544             None   \n\n  Consult                                  Discharge summary  ...  \\\n0    None  Admission Date:  [**2101-10-20**]     Discharg...  ...   \n1    None  Admission Date:  [**2191-3-16**]     Discharge...  ...   \n2    None  Admission Date: [**2175-5-30**]        Dischar...  ...   \n3    None  Admission Date:  [**2149-11-9**]       Dischar...  ...   \n4    None  Admission Date:  [**2178-4-16**]              ...  ...   \n\n  diagnosis_CONGESTIVE HEART FAILURE diagnosis_Cardiovascular Conditions  \\\n0                              False                               False   \n1                              False                               False   \n2                              False                               False   \n3                              False                               False   \n4                              False                               False   \n\n  diagnosis_Gastrointestinal Conditions diagnosis_Infections  \\\n0                                 False                False   \n1                                 False                False   \n2                                 False                False   \n3                                 False                False   \n4                                 False                False   \n\n  diagnosis_Metabolic and Endocrine Conditions  \\\n0                                         True   \n1                                        False   \n2                                        False   \n3                                        False   \n4                                        False   \n\n  diagnosis_Neurological Conditions diagnosis_Other  \\\n0                             False           False   \n1                             False            True   \n2                             False            True   \n3                             False            True   \n4                             False            True   \n\n  diagnosis_Renal Conditions diagnosis_Respiratory Conditions  \\\n0                      False                            False   \n1                      False                            False   \n2                      False                            False   \n3                      False                            False   \n4                      False                            False   \n\n  diagnosis_Trauma and Injury  \n0                       False  \n1                       False  \n2                       False  \n3                       False  \n4                       False  \n\n[5 rows x 51 columns]",
      "text/html": "<div>\n<style scoped>\n    .dataframe tbody tr th:only-of-type {\n        vertical-align: middle;\n    }\n\n    .dataframe tbody tr th {\n        vertical-align: top;\n    }\n\n    .dataframe thead th {\n        text-align: right;\n    }\n</style>\n<table border=\"1\" class=\"dataframe\">\n  <thead>\n    <tr style=\"text-align: right;\">\n      <th></th>\n      <th>subject_id</th>\n      <th>hadm_id</th>\n      <th>icustay_id</th>\n      <th>los</th>\n      <th>diagnosis</th>\n      <th>gender</th>\n      <th>age</th>\n      <th>Case Management</th>\n      <th>Consult</th>\n      <th>Discharge summary</th>\n      <th>...</th>\n      <th>diagnosis_CONGESTIVE HEART FAILURE</th>\n      <th>diagnosis_Cardiovascular Conditions</th>\n      <th>diagnosis_Gastrointestinal Conditions</th>\n      <th>diagnosis_Infections</th>\n      <th>diagnosis_Metabolic and Endocrine Conditions</th>\n      <th>diagnosis_Neurological Conditions</th>\n      <th>diagnosis_Other</th>\n      <th>diagnosis_Renal Conditions</th>\n      <th>diagnosis_Respiratory Conditions</th>\n      <th>diagnosis_Trauma and Injury</th>\n    </tr>\n  </thead>\n  <tbody>\n    <tr>\n      <th>0</th>\n      <td>3</td>\n      <td>145834</td>\n      <td>211552</td>\n      <td>6.0646</td>\n      <td>Metabolic and Endocrine Conditions</td>\n      <td>0</td>\n      <td>76.577531</td>\n      <td>None</td>\n      <td>None</td>\n      <td>Admission Date:  [**2101-10-20**]     Discharg...</td>\n      <td>...</td>\n      <td>False</td>\n      <td>False</td>\n      <td>False</td>\n      <td>False</td>\n      <td>True</td>\n      <td>False</td>\n      <td>False</td>\n      <td>False</td>\n      <td>False</td>\n      <td>False</td>\n    </tr>\n    <tr>\n      <th>1</th>\n      <td>4</td>\n      <td>185777</td>\n      <td>294638</td>\n      <td>1.6785</td>\n      <td>Other</td>\n      <td>1</td>\n      <td>47.876768</td>\n      <td>None</td>\n      <td>None</td>\n      <td>Admission Date:  [**2191-3-16**]     Discharge...</td>\n      <td>...</td>\n      <td>False</td>\n      <td>False</td>\n      <td>False</td>\n      <td>False</td>\n      <td>False</td>\n      <td>False</td>\n      <td>True</td>\n      <td>False</td>\n      <td>False</td>\n      <td>False</td>\n    </tr>\n    <tr>\n      <th>2</th>\n      <td>6</td>\n      <td>107064</td>\n      <td>228232</td>\n      <td>3.6729</td>\n      <td>Other</td>\n      <td>1</td>\n      <td>65.986018</td>\n      <td>None</td>\n      <td>None</td>\n      <td>Admission Date: [**2175-5-30**]        Dischar...</td>\n      <td>...</td>\n      <td>False</td>\n      <td>False</td>\n      <td>False</td>\n      <td>False</td>\n      <td>False</td>\n      <td>False</td>\n      <td>True</td>\n      <td>False</td>\n      <td>False</td>\n      <td>False</td>\n    </tr>\n    <tr>\n      <th>3</th>\n      <td>9</td>\n      <td>150750</td>\n      <td>220597</td>\n      <td>5.3231</td>\n      <td>Other</td>\n      <td>0</td>\n      <td>41.817936</td>\n      <td>None</td>\n      <td>None</td>\n      <td>Admission Date:  [**2149-11-9**]       Dischar...</td>\n      <td>...</td>\n      <td>False</td>\n      <td>False</td>\n      <td>False</td>\n      <td>False</td>\n      <td>False</td>\n      <td>False</td>\n      <td>True</td>\n      <td>False</td>\n      <td>False</td>\n      <td>False</td>\n    </tr>\n    <tr>\n      <th>4</th>\n      <td>11</td>\n      <td>194540</td>\n      <td>229441</td>\n      <td>1.5844</td>\n      <td>Other</td>\n      <td>1</td>\n      <td>50.181544</td>\n      <td>None</td>\n      <td>None</td>\n      <td>Admission Date:  [**2178-4-16**]              ...</td>\n      <td>...</td>\n      <td>False</td>\n      <td>False</td>\n      <td>False</td>\n      <td>False</td>\n      <td>False</td>\n      <td>False</td>\n      <td>True</td>\n      <td>False</td>\n      <td>False</td>\n      <td>False</td>\n    </tr>\n  </tbody>\n</table>\n<p>5 rows × 51 columns</p>\n</div>"
     },
     "execution_count": 85,
     "metadata": {},
     "output_type": "execute_result"
    }
   ],
   "source": [
    "\n",
    "df_one_hot = pd.get_dummies(new_data['diagnosis'], prefix='diagnosis')\n",
    "\n",
    "\n",
    "df = pd.concat([new_data, df_one_hot], axis=1)\n",
    "df.head()"
   ],
   "metadata": {
    "collapsed": false
   }
  },
  {
   "cell_type": "code",
   "execution_count": 86,
   "outputs": [
    {
     "name": "stdout",
     "output_type": "stream",
     "text": [
      "subject_id                                          0\n",
      "hadm_id                                             0\n",
      "icustay_id                                          0\n",
      "los                                                 0\n",
      "gender                                              0\n",
      "age                                                 0\n",
      "Case Management                                 33199\n",
      "Consult                                         33630\n",
      "Discharge summary                                1112\n",
      "ECG                                              4715\n",
      "Echo                                            17475\n",
      "General                                         31335\n",
      "Nursing                                         27019\n",
      "Nursing/other                                   14406\n",
      "Nutrition                                       31448\n",
      "Pharmacy                                        33612\n",
      "Physician                                       27086\n",
      "Radiology                                        4959\n",
      "Rehab Services                                  32043\n",
      "Respiratory                                     30760\n",
      "Social Work                                     32636\n",
      "Base_Excess                                         0\n",
      "Glucose_1                                           0\n",
      "Hemoglobin_2                                        0\n",
      "Lactate                                             0\n",
      "pCO2                                                0\n",
      "pH_1                                                0\n",
      "pO2                                                 0\n",
      "Albumin                                             0\n",
      "Anion_Gap                                           0\n",
      "Bicarbonate                                         0\n",
      "Bilirubin_Total                                     0\n",
      "Chloride                                            0\n",
      "Glucose_3                                           0\n",
      "Potassium_2                                         0\n",
      "Sodium                                              0\n",
      "Hematocrit_1                                        0\n",
      "Hemoglobin_1                                        0\n",
      "pH_2                                                0\n",
      "mortality_inhospital                                0\n",
      "diagnosis_CONGESTIVE HEART FAILURE                  0\n",
      "diagnosis_Cardiovascular Conditions                 0\n",
      "diagnosis_Gastrointestinal Conditions               0\n",
      "diagnosis_Infections                                0\n",
      "diagnosis_Metabolic and Endocrine Conditions        0\n",
      "diagnosis_Neurological Conditions                   0\n",
      "diagnosis_Other                                     0\n",
      "diagnosis_Renal Conditions                          0\n",
      "diagnosis_Respiratory Conditions                    0\n",
      "diagnosis_Trauma and Injury                         0\n",
      "dtype: int64\n"
     ]
    }
   ],
   "source": [
    "#drop diagnosis column\n",
    "df.drop('diagnosis', axis=1, inplace=True)\n",
    "print(df.isna().sum())"
   ],
   "metadata": {
    "collapsed": false
   }
  },
  {
   "cell_type": "code",
   "execution_count": 87,
   "outputs": [
    {
     "name": "stderr",
     "output_type": "stream",
     "text": [
      "C:\\Users\\kashann\\AppData\\Local\\Temp\\ipykernel_22136\\2755497102.py:2: FutureWarning: Downcasting behavior in `replace` is deprecated and will be removed in a future version. To retain the old behavior, explicitly call `result.infer_objects(copy=False)`. To opt-in to the future behavior, set `pd.set_option('future.no_silent_downcasting', True)`\n",
      "  df = df.replace({True: 1, False: 0})\n"
     ]
    }
   ],
   "source": [
    "# replace True and false with 1 and 0 in all columns\n",
    "df = df.replace({True: 1, False: 0})\n"
   ],
   "metadata": {
    "collapsed": false
   }
  },
  {
   "cell_type": "code",
   "execution_count": 88,
   "outputs": [],
   "source": [
    "#remove the nursing column\n",
    "df.drop('Nursing', axis=1, inplace=True)"
   ],
   "metadata": {
    "collapsed": false
   }
  },
  {
   "cell_type": "code",
   "execution_count": 89,
   "outputs": [
    {
     "data": {
      "text/plain": "1027"
     },
     "execution_count": 89,
     "metadata": {},
     "output_type": "execute_result"
    }
   ],
   "source": [
    "df['Social Work'].value_counts()\n",
    "#check how many unique values in the column\n",
    "df['Social Work'].nunique()"
   ],
   "metadata": {
    "collapsed": false
   }
  },
  {
   "cell_type": "code",
   "execution_count": 90,
   "outputs": [],
   "source": [
    "df.head()\n",
    "cols = df.columns.tolist()\n"
   ],
   "metadata": {
    "collapsed": false
   }
  },
  {
   "cell_type": "code",
   "execution_count": 91,
   "outputs": [
    {
     "name": "stdout",
     "output_type": "stream",
     "text": [
      "Column 'subject_id' has the following unique types: [<class 'int'>]\n",
      "Column 'hadm_id' has the following unique types: [<class 'int'>]\n",
      "Column 'icustay_id' has the following unique types: [<class 'int'>]\n",
      "Column 'los' has the following unique types: [<class 'float'>]\n",
      "Column 'gender' has the following unique types: [<class 'int'>]\n",
      "Column 'age' has the following unique types: [<class 'float'>]\n",
      "Column 'Case Management ' has the following unique types: [<class 'NoneType'> <class 'str'>]\n",
      "Column 'Consult' has the following unique types: [<class 'NoneType'> <class 'str'>]\n",
      "Column 'Discharge summary' has the following unique types: [<class 'str'> <class 'NoneType'>]\n",
      "Column 'ECG' has the following unique types: [<class 'str'> <class 'NoneType'>]\n",
      "Column 'Echo' has the following unique types: [<class 'str'> <class 'NoneType'>]\n",
      "Column 'General' has the following unique types: [<class 'NoneType'> <class 'str'>]\n",
      "Column 'Nursing/other' has the following unique types: [<class 'str'> <class 'NoneType'>]\n",
      "Column 'Nutrition' has the following unique types: [<class 'NoneType'> <class 'str'>]\n",
      "Column 'Pharmacy' has the following unique types: [<class 'NoneType'> <class 'str'>]\n",
      "Column 'Physician ' has the following unique types: [<class 'NoneType'> <class 'str'>]\n",
      "Column 'Radiology' has the following unique types: [<class 'str'> <class 'NoneType'>]\n",
      "Column 'Rehab Services' has the following unique types: [<class 'NoneType'> <class 'str'>]\n",
      "Column 'Respiratory ' has the following unique types: [<class 'NoneType'> <class 'str'>]\n",
      "Column 'Social Work' has the following unique types: [<class 'NoneType'> <class 'str'>]\n",
      "Column 'Base_Excess' has the following unique types: [<class 'float'>]\n",
      "Column 'Glucose_1' has the following unique types: [<class 'float'>]\n",
      "Column 'Hemoglobin_2' has the following unique types: [<class 'float'>]\n",
      "Column 'Lactate' has the following unique types: [<class 'float'>]\n",
      "Column 'pCO2' has the following unique types: [<class 'float'>]\n",
      "Column 'pH_1' has the following unique types: [<class 'float'>]\n",
      "Column 'pO2' has the following unique types: [<class 'float'>]\n",
      "Column 'Albumin' has the following unique types: [<class 'float'>]\n",
      "Column 'Anion_Gap' has the following unique types: [<class 'float'>]\n",
      "Column 'Bicarbonate' has the following unique types: [<class 'float'>]\n",
      "Column 'Bilirubin_Total' has the following unique types: [<class 'float'>]\n",
      "Column 'Chloride' has the following unique types: [<class 'float'>]\n",
      "Column 'Glucose_3' has the following unique types: [<class 'float'>]\n",
      "Column 'Potassium_2' has the following unique types: [<class 'float'>]\n",
      "Column 'Sodium' has the following unique types: [<class 'float'>]\n",
      "Column 'Hematocrit_1' has the following unique types: [<class 'float'>]\n",
      "Column 'Hemoglobin_1' has the following unique types: [<class 'float'>]\n",
      "Column 'pH_2' has the following unique types: [<class 'float'>]\n",
      "Column 'mortality_inhospital' has the following unique types: [<class 'int'>]\n",
      "Column 'diagnosis_CONGESTIVE HEART FAILURE' has the following unique types: [<class 'int'>]\n",
      "Column 'diagnosis_Cardiovascular Conditions' has the following unique types: [<class 'int'>]\n",
      "Column 'diagnosis_Gastrointestinal Conditions' has the following unique types: [<class 'int'>]\n",
      "Column 'diagnosis_Infections' has the following unique types: [<class 'int'>]\n",
      "Column 'diagnosis_Metabolic and Endocrine Conditions' has the following unique types: [<class 'int'>]\n",
      "Column 'diagnosis_Neurological Conditions' has the following unique types: [<class 'int'>]\n",
      "Column 'diagnosis_Other' has the following unique types: [<class 'int'>]\n",
      "Column 'diagnosis_Renal Conditions' has the following unique types: [<class 'int'>]\n",
      "Column 'diagnosis_Respiratory Conditions' has the following unique types: [<class 'int'>]\n",
      "Column 'diagnosis_Trauma and Injury' has the following unique types: [<class 'int'>]\n"
     ]
    }
   ],
   "source": [
    "# Function to get unique types for each column\n",
    "def get_column_types(df):\n",
    "    column_types = {}\n",
    "    for col in df.columns:\n",
    "        types_in_column = df[col].apply(type).unique()\n",
    "        column_types[col] = types_in_column\n",
    "    return column_types\n",
    "\n",
    "# Get the types for each column\n",
    "column_types = get_column_types(df)\n",
    "\n",
    "# Display the results\n",
    "for col, types in column_types.items():\n",
    "    print(f\"Column '{col}' has the following unique types: {types}\")"
   ],
   "metadata": {
    "collapsed": false
   }
  },
  {
   "cell_type": "code",
   "execution_count": 47,
   "outputs": [
    {
     "data": {
      "text/plain": "   subject_id  hadm_id  icustay_id     los  gender        age  \\\n0           3   145834      211552  6.0646       0  76.577531   \n1           4   185777      294638  1.6785       1  47.876768   \n2           6   107064      228232  3.6729       1  65.986018   \n3           9   150750      220597  5.3231       0  41.817936   \n4          11   194540      229441  1.5844       1  50.181544   \n\n  Case Management  Consult                                  Discharge summary  \\\n0             None    None  Admission Date:  [**2101-10-20**]     Discharg...   \n1             None    None  Admission Date:  [**2191-3-16**]     Discharge...   \n2             None    None  Admission Date: [**2175-5-30**]        Dischar...   \n3             None    None  Admission Date:  [**2149-11-9**]       Dischar...   \n4             None    None  Admission Date:  [**2178-4-16**]              ...   \n\n                                                 ECG  ...  \\\n0  Sinus rhythm P-R interval increased Late R wav...  ...   \n1  Sinus tachycardia. Borderline low limb lead vo...  ...   \n2  Lead V2 absent Probable ectopic atrial rhythm ...  ...   \n3  Sinus rhythm Possible LVH with ST-T changes Si...  ...   \n4  Sinus bradycardia with sinus arrhythmia ST-T w...  ...   \n\n  diagnosis_CONGESTIVE HEART FAILURE diagnosis_Cardiovascular Conditions  \\\n0                                  0                                   0   \n1                                  0                                   0   \n2                                  0                                   0   \n3                                  0                                   0   \n4                                  0                                   0   \n\n  diagnosis_Gastrointestinal Conditions diagnosis_Infections  \\\n0                                     0                    0   \n1                                     0                    0   \n2                                     0                    0   \n3                                     0                    0   \n4                                     0                    0   \n\n  diagnosis_Metabolic and Endocrine Conditions  \\\n0                                            1   \n1                                            0   \n2                                            0   \n3                                            0   \n4                                            0   \n\n  diagnosis_Neurological Conditions diagnosis_Other  \\\n0                                 0               0   \n1                                 0               1   \n2                                 0               1   \n3                                 0               1   \n4                                 0               1   \n\n  diagnosis_Renal Conditions diagnosis_Respiratory Conditions  \\\n0                          0                                0   \n1                          0                                0   \n2                          0                                0   \n3                          0                                0   \n4                          0                                0   \n\n  diagnosis_Trauma and Injury  \n0                           0  \n1                           0  \n2                           0  \n3                           0  \n4                           0  \n\n[5 rows x 55 columns]",
      "text/html": "<div>\n<style scoped>\n    .dataframe tbody tr th:only-of-type {\n        vertical-align: middle;\n    }\n\n    .dataframe tbody tr th {\n        vertical-align: top;\n    }\n\n    .dataframe thead th {\n        text-align: right;\n    }\n</style>\n<table border=\"1\" class=\"dataframe\">\n  <thead>\n    <tr style=\"text-align: right;\">\n      <th></th>\n      <th>subject_id</th>\n      <th>hadm_id</th>\n      <th>icustay_id</th>\n      <th>los</th>\n      <th>gender</th>\n      <th>age</th>\n      <th>Case Management</th>\n      <th>Consult</th>\n      <th>Discharge summary</th>\n      <th>ECG</th>\n      <th>...</th>\n      <th>diagnosis_CONGESTIVE HEART FAILURE</th>\n      <th>diagnosis_Cardiovascular Conditions</th>\n      <th>diagnosis_Gastrointestinal Conditions</th>\n      <th>diagnosis_Infections</th>\n      <th>diagnosis_Metabolic and Endocrine Conditions</th>\n      <th>diagnosis_Neurological Conditions</th>\n      <th>diagnosis_Other</th>\n      <th>diagnosis_Renal Conditions</th>\n      <th>diagnosis_Respiratory Conditions</th>\n      <th>diagnosis_Trauma and Injury</th>\n    </tr>\n  </thead>\n  <tbody>\n    <tr>\n      <th>0</th>\n      <td>3</td>\n      <td>145834</td>\n      <td>211552</td>\n      <td>6.0646</td>\n      <td>0</td>\n      <td>76.577531</td>\n      <td>None</td>\n      <td>None</td>\n      <td>Admission Date:  [**2101-10-20**]     Discharg...</td>\n      <td>Sinus rhythm P-R interval increased Late R wav...</td>\n      <td>...</td>\n      <td>0</td>\n      <td>0</td>\n      <td>0</td>\n      <td>0</td>\n      <td>1</td>\n      <td>0</td>\n      <td>0</td>\n      <td>0</td>\n      <td>0</td>\n      <td>0</td>\n    </tr>\n    <tr>\n      <th>1</th>\n      <td>4</td>\n      <td>185777</td>\n      <td>294638</td>\n      <td>1.6785</td>\n      <td>1</td>\n      <td>47.876768</td>\n      <td>None</td>\n      <td>None</td>\n      <td>Admission Date:  [**2191-3-16**]     Discharge...</td>\n      <td>Sinus tachycardia. Borderline low limb lead vo...</td>\n      <td>...</td>\n      <td>0</td>\n      <td>0</td>\n      <td>0</td>\n      <td>0</td>\n      <td>0</td>\n      <td>0</td>\n      <td>1</td>\n      <td>0</td>\n      <td>0</td>\n      <td>0</td>\n    </tr>\n    <tr>\n      <th>2</th>\n      <td>6</td>\n      <td>107064</td>\n      <td>228232</td>\n      <td>3.6729</td>\n      <td>1</td>\n      <td>65.986018</td>\n      <td>None</td>\n      <td>None</td>\n      <td>Admission Date: [**2175-5-30**]        Dischar...</td>\n      <td>Lead V2 absent Probable ectopic atrial rhythm ...</td>\n      <td>...</td>\n      <td>0</td>\n      <td>0</td>\n      <td>0</td>\n      <td>0</td>\n      <td>0</td>\n      <td>0</td>\n      <td>1</td>\n      <td>0</td>\n      <td>0</td>\n      <td>0</td>\n    </tr>\n    <tr>\n      <th>3</th>\n      <td>9</td>\n      <td>150750</td>\n      <td>220597</td>\n      <td>5.3231</td>\n      <td>0</td>\n      <td>41.817936</td>\n      <td>None</td>\n      <td>None</td>\n      <td>Admission Date:  [**2149-11-9**]       Dischar...</td>\n      <td>Sinus rhythm Possible LVH with ST-T changes Si...</td>\n      <td>...</td>\n      <td>0</td>\n      <td>0</td>\n      <td>0</td>\n      <td>0</td>\n      <td>0</td>\n      <td>0</td>\n      <td>1</td>\n      <td>0</td>\n      <td>0</td>\n      <td>0</td>\n    </tr>\n    <tr>\n      <th>4</th>\n      <td>11</td>\n      <td>194540</td>\n      <td>229441</td>\n      <td>1.5844</td>\n      <td>1</td>\n      <td>50.181544</td>\n      <td>None</td>\n      <td>None</td>\n      <td>Admission Date:  [**2178-4-16**]              ...</td>\n      <td>Sinus bradycardia with sinus arrhythmia ST-T w...</td>\n      <td>...</td>\n      <td>0</td>\n      <td>0</td>\n      <td>0</td>\n      <td>0</td>\n      <td>0</td>\n      <td>0</td>\n      <td>1</td>\n      <td>0</td>\n      <td>0</td>\n      <td>0</td>\n    </tr>\n  </tbody>\n</table>\n<p>5 rows × 55 columns</p>\n</div>"
     },
     "execution_count": 47,
     "metadata": {},
     "output_type": "execute_result"
    }
   ],
   "source": [
    "df.head()"
   ],
   "metadata": {
    "collapsed": false
   }
  },
  {
   "cell_type": "markdown",
   "source": [],
   "metadata": {
    "collapsed": false
   }
  },
  {
   "cell_type": "code",
   "execution_count": 93,
   "outputs": [],
   "source": [
    "df.to_json(\"data_with_text.json\", orient=\"records\", lines=True)"
   ],
   "metadata": {
    "collapsed": false
   }
  },
  {
   "cell_type": "markdown",
   "source": [],
   "metadata": {
    "collapsed": false
   }
  }
 ],
 "metadata": {
  "kernelspec": {
   "display_name": "Python 3",
   "language": "python",
   "name": "python3"
  },
  "language_info": {
   "codemirror_mode": {
    "name": "ipython",
    "version": 3
   },
   "file_extension": ".py",
   "mimetype": "text/x-python",
   "name": "python",
   "nbconvert_exporter": "python",
   "pygments_lexer": "ipython3",
   "version": "3.6.1"
  }
 },
 "nbformat": 4,
 "nbformat_minor": 1
}
